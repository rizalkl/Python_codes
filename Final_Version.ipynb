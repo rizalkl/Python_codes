{
  "nbformat": 4,
  "nbformat_minor": 0,
  "metadata": {
    "colab": {
      "name": "Final Version.ipynb",
      "provenance": [],
      "collapsed_sections": [],
      "include_colab_link": true
    },
    "kernelspec": {
      "name": "python3",
      "display_name": "Python 3"
    },
    "language_info": {
      "name": "python"
    }
  },
  "cells": [
    {
      "cell_type": "markdown",
      "metadata": {
        "id": "view-in-github",
        "colab_type": "text"
      },
      "source": [
        "<a href=\"https://colab.research.google.com/github/rizalkl/Python_codes/blob/main/Final_Version.ipynb\" target=\"_parent\"><img src=\"https://colab.research.google.com/assets/colab-badge.svg\" alt=\"Open In Colab\"/></a>"
      ]
    },
    {
      "cell_type": "code",
      "source": [
        "### Install and load Packages\n",
        "%%capture\n",
        "!pip install plotnine \n",
        "!pip install dfply\n",
        "!pip install fitter"
      ],
      "metadata": {
        "id": "Okk8xjHqwYBS"
      },
      "execution_count": 382,
      "outputs": []
    },
    {
      "cell_type": "code",
      "source": [
        "import pandas as pd\n",
        "import numpy as np\n",
        "import os\n",
        "import matplotlib.pyplot as plt\n",
        "from plotnine import *\n",
        "from dfply import *\n",
        "from numpy.core.numeric import full\n",
        "import random\n",
        "import statistics as st\n",
        "import matplotlib.pyplot as plt\n",
        "import numpy as np\n",
        "import scipy as scipy"
      ],
      "metadata": {
        "id": "voJRDtwuwVoB"
      },
      "execution_count": 383,
      "outputs": []
    },
    {
      "cell_type": "code",
      "source": [
        "### Load in the dataset\n",
        "df = pd.read_excel(\"/content/salesData.xlsx\", sheet_name= 'Data', header=0)\n",
        "prodtype = pd.read_excel(\"/content/salesData.xlsx\", sheet_name= 'Sheet2', header=2)\n",
        "prodtype = prodtype.drop(prodtype.columns[[0, 1]], axis=1)\n",
        "prodtype.columns = prodtype.iloc[0]\n",
        "full_df = pd.merge(df,prodtype, how='left', left_on = 'Product Type', right_on='Product_type')\n",
        "full_df"
      ],
      "metadata": {
        "colab": {
          "base_uri": "https://localhost:8080/",
          "height": 423
        },
        "id": "NJoNlHLUwmI6",
        "outputId": "7f3b2094-6d6a-4fe7-c133-2269f1959cfe"
      },
      "execution_count": null,
      "outputs": [
        {
          "output_type": "execute_result",
          "data": {
            "text/html": [
              "\n",
              "  <div id=\"df-24bff334-4669-42e4-be0e-c0fc985d045d\">\n",
              "    <div class=\"colab-df-container\">\n",
              "      <div>\n",
              "<style scoped>\n",
              "    .dataframe tbody tr th:only-of-type {\n",
              "        vertical-align: middle;\n",
              "    }\n",
              "\n",
              "    .dataframe tbody tr th {\n",
              "        vertical-align: top;\n",
              "    }\n",
              "\n",
              "    .dataframe thead th {\n",
              "        text-align: right;\n",
              "    }\n",
              "</style>\n",
              "<table border=\"1\" class=\"dataframe\">\n",
              "  <thead>\n",
              "    <tr style=\"text-align: right;\">\n",
              "      <th></th>\n",
              "      <th>Month</th>\n",
              "      <th>Region</th>\n",
              "      <th>Time (minutes)</th>\n",
              "      <th>Product Type</th>\n",
              "      <th>Quantity</th>\n",
              "      <th>Product_type</th>\n",
              "      <th>Revenue</th>\n",
              "      <th>Capacity</th>\n",
              "    </tr>\n",
              "  </thead>\n",
              "  <tbody>\n",
              "    <tr>\n",
              "      <th>0</th>\n",
              "      <td>1</td>\n",
              "      <td>EastCoast</td>\n",
              "      <td>44.975953</td>\n",
              "      <td>1</td>\n",
              "      <td>1</td>\n",
              "      <td>1</td>\n",
              "      <td>10</td>\n",
              "      <td>6000</td>\n",
              "    </tr>\n",
              "    <tr>\n",
              "      <th>1</th>\n",
              "      <td>1</td>\n",
              "      <td>WestCoast</td>\n",
              "      <td>56.199493</td>\n",
              "      <td>5</td>\n",
              "      <td>4</td>\n",
              "      <td>5</td>\n",
              "      <td>10</td>\n",
              "      <td>3000</td>\n",
              "    </tr>\n",
              "    <tr>\n",
              "      <th>2</th>\n",
              "      <td>1</td>\n",
              "      <td>WestCoast</td>\n",
              "      <td>63.320189</td>\n",
              "      <td>4</td>\n",
              "      <td>4</td>\n",
              "      <td>4</td>\n",
              "      <td>9</td>\n",
              "      <td>3000</td>\n",
              "    </tr>\n",
              "    <tr>\n",
              "      <th>3</th>\n",
              "      <td>1</td>\n",
              "      <td>EastCoast</td>\n",
              "      <td>42.824992</td>\n",
              "      <td>3</td>\n",
              "      <td>2</td>\n",
              "      <td>3</td>\n",
              "      <td>15</td>\n",
              "      <td>4500</td>\n",
              "    </tr>\n",
              "    <tr>\n",
              "      <th>4</th>\n",
              "      <td>1</td>\n",
              "      <td>EastCoast</td>\n",
              "      <td>56.760768</td>\n",
              "      <td>1</td>\n",
              "      <td>2</td>\n",
              "      <td>1</td>\n",
              "      <td>10</td>\n",
              "      <td>6000</td>\n",
              "    </tr>\n",
              "    <tr>\n",
              "      <th>...</th>\n",
              "      <td>...</td>\n",
              "      <td>...</td>\n",
              "      <td>...</td>\n",
              "      <td>...</td>\n",
              "      <td>...</td>\n",
              "      <td>...</td>\n",
              "      <td>...</td>\n",
              "      <td>...</td>\n",
              "    </tr>\n",
              "    <tr>\n",
              "      <th>6167</th>\n",
              "      <td>6</td>\n",
              "      <td>WestCoast</td>\n",
              "      <td>42.415861</td>\n",
              "      <td>1</td>\n",
              "      <td>3</td>\n",
              "      <td>1</td>\n",
              "      <td>10</td>\n",
              "      <td>6000</td>\n",
              "    </tr>\n",
              "    <tr>\n",
              "      <th>6168</th>\n",
              "      <td>6</td>\n",
              "      <td>WestCoast</td>\n",
              "      <td>62.400873</td>\n",
              "      <td>4</td>\n",
              "      <td>4</td>\n",
              "      <td>4</td>\n",
              "      <td>9</td>\n",
              "      <td>3000</td>\n",
              "    </tr>\n",
              "    <tr>\n",
              "      <th>6169</th>\n",
              "      <td>6</td>\n",
              "      <td>EastCoast</td>\n",
              "      <td>45.969820</td>\n",
              "      <td>1</td>\n",
              "      <td>1</td>\n",
              "      <td>1</td>\n",
              "      <td>10</td>\n",
              "      <td>6000</td>\n",
              "    </tr>\n",
              "    <tr>\n",
              "      <th>6170</th>\n",
              "      <td>6</td>\n",
              "      <td>EastCoast</td>\n",
              "      <td>43.542181</td>\n",
              "      <td>1</td>\n",
              "      <td>2</td>\n",
              "      <td>1</td>\n",
              "      <td>10</td>\n",
              "      <td>6000</td>\n",
              "    </tr>\n",
              "    <tr>\n",
              "      <th>6171</th>\n",
              "      <td>6</td>\n",
              "      <td>Midwest</td>\n",
              "      <td>33.007986</td>\n",
              "      <td>3</td>\n",
              "      <td>3</td>\n",
              "      <td>3</td>\n",
              "      <td>15</td>\n",
              "      <td>4500</td>\n",
              "    </tr>\n",
              "  </tbody>\n",
              "</table>\n",
              "<p>6172 rows × 8 columns</p>\n",
              "</div>\n",
              "      <button class=\"colab-df-convert\" onclick=\"convertToInteractive('df-24bff334-4669-42e4-be0e-c0fc985d045d')\"\n",
              "              title=\"Convert this dataframe to an interactive table.\"\n",
              "              style=\"display:none;\">\n",
              "        \n",
              "  <svg xmlns=\"http://www.w3.org/2000/svg\" height=\"24px\"viewBox=\"0 0 24 24\"\n",
              "       width=\"24px\">\n",
              "    <path d=\"M0 0h24v24H0V0z\" fill=\"none\"/>\n",
              "    <path d=\"M18.56 5.44l.94 2.06.94-2.06 2.06-.94-2.06-.94-.94-2.06-.94 2.06-2.06.94zm-11 1L8.5 8.5l.94-2.06 2.06-.94-2.06-.94L8.5 2.5l-.94 2.06-2.06.94zm10 10l.94 2.06.94-2.06 2.06-.94-2.06-.94-.94-2.06-.94 2.06-2.06.94z\"/><path d=\"M17.41 7.96l-1.37-1.37c-.4-.4-.92-.59-1.43-.59-.52 0-1.04.2-1.43.59L10.3 9.45l-7.72 7.72c-.78.78-.78 2.05 0 2.83L4 21.41c.39.39.9.59 1.41.59.51 0 1.02-.2 1.41-.59l7.78-7.78 2.81-2.81c.8-.78.8-2.07 0-2.86zM5.41 20L4 18.59l7.72-7.72 1.47 1.35L5.41 20z\"/>\n",
              "  </svg>\n",
              "      </button>\n",
              "      \n",
              "  <style>\n",
              "    .colab-df-container {\n",
              "      display:flex;\n",
              "      flex-wrap:wrap;\n",
              "      gap: 12px;\n",
              "    }\n",
              "\n",
              "    .colab-df-convert {\n",
              "      background-color: #E8F0FE;\n",
              "      border: none;\n",
              "      border-radius: 50%;\n",
              "      cursor: pointer;\n",
              "      display: none;\n",
              "      fill: #1967D2;\n",
              "      height: 32px;\n",
              "      padding: 0 0 0 0;\n",
              "      width: 32px;\n",
              "    }\n",
              "\n",
              "    .colab-df-convert:hover {\n",
              "      background-color: #E2EBFA;\n",
              "      box-shadow: 0px 1px 2px rgba(60, 64, 67, 0.3), 0px 1px 3px 1px rgba(60, 64, 67, 0.15);\n",
              "      fill: #174EA6;\n",
              "    }\n",
              "\n",
              "    [theme=dark] .colab-df-convert {\n",
              "      background-color: #3B4455;\n",
              "      fill: #D2E3FC;\n",
              "    }\n",
              "\n",
              "    [theme=dark] .colab-df-convert:hover {\n",
              "      background-color: #434B5C;\n",
              "      box-shadow: 0px 1px 3px 1px rgba(0, 0, 0, 0.15);\n",
              "      filter: drop-shadow(0px 1px 2px rgba(0, 0, 0, 0.3));\n",
              "      fill: #FFFFFF;\n",
              "    }\n",
              "  </style>\n",
              "\n",
              "      <script>\n",
              "        const buttonEl =\n",
              "          document.querySelector('#df-24bff334-4669-42e4-be0e-c0fc985d045d button.colab-df-convert');\n",
              "        buttonEl.style.display =\n",
              "          google.colab.kernel.accessAllowed ? 'block' : 'none';\n",
              "\n",
              "        async function convertToInteractive(key) {\n",
              "          const element = document.querySelector('#df-24bff334-4669-42e4-be0e-c0fc985d045d');\n",
              "          const dataTable =\n",
              "            await google.colab.kernel.invokeFunction('convertToInteractive',\n",
              "                                                     [key], {});\n",
              "          if (!dataTable) return;\n",
              "\n",
              "          const docLinkHtml = 'Like what you see? Visit the ' +\n",
              "            '<a target=\"_blank\" href=https://colab.research.google.com/notebooks/data_table.ipynb>data table notebook</a>'\n",
              "            + ' to learn more about interactive tables.';\n",
              "          element.innerHTML = '';\n",
              "          dataTable['output_type'] = 'display_data';\n",
              "          await google.colab.output.renderOutput(dataTable, element);\n",
              "          const docLink = document.createElement('div');\n",
              "          docLink.innerHTML = docLinkHtml;\n",
              "          element.appendChild(docLink);\n",
              "        }\n",
              "      </script>\n",
              "    </div>\n",
              "  </div>\n",
              "  "
            ],
            "text/plain": [
              "      Month     Region  Time (minutes)  ... Product_type  Revenue Capacity\n",
              "0         1  EastCoast       44.975953  ...            1       10     6000\n",
              "1         1  WestCoast       56.199493  ...            5       10     3000\n",
              "2         1  WestCoast       63.320189  ...            4        9     3000\n",
              "3         1  EastCoast       42.824992  ...            3       15     4500\n",
              "4         1  EastCoast       56.760768  ...            1       10     6000\n",
              "...     ...        ...             ...  ...          ...      ...      ...\n",
              "6167      6  WestCoast       42.415861  ...            1       10     6000\n",
              "6168      6  WestCoast       62.400873  ...            4        9     3000\n",
              "6169      6  EastCoast       45.969820  ...            1       10     6000\n",
              "6170      6  EastCoast       43.542181  ...            1       10     6000\n",
              "6171      6    Midwest       33.007986  ...            3       15     4500\n",
              "\n",
              "[6172 rows x 8 columns]"
            ]
          },
          "metadata": {},
          "execution_count": 5
        }
      ]
    },
    {
      "cell_type": "code",
      "source": [
        "region_qty = df[['Region', 'Quantity', 'Product Type']].groupby(['Region', 'Product Type']).sum().reset_index()\n",
        "region_qty"
      ],
      "metadata": {
        "id": "AIPSqIoKw81-"
      },
      "execution_count": null,
      "outputs": []
    },
    {
      "cell_type": "code",
      "source": [
        "## Plot of Region by Quantity, filled by product type. This chart shows that EastCoast has the highest quantity, and the most prevalent product is 1.\n",
        "## Midwest's most prevalent product is product 3. \n",
        "## WestCoast's prevalent product is 5. \n",
        "(ggplot(full_df, aes('Region', 'Quantity', fill='Product Type'))\n",
        " + geom_col())"
      ],
      "metadata": {
        "colab": {
          "base_uri": "https://localhost:8080/",
          "height": 520
        },
        "id": "UHKRq24lxgko",
        "outputId": "770f4686-c92c-4df9-da19-4ffe5ac5dc12"
      },
      "execution_count": null,
      "outputs": [
        {
          "output_type": "stream",
          "name": "stderr",
          "text": [
            "/usr/local/lib/python3.7/dist-packages/plotnine/utils.py:1246: FutureWarning: is_categorical is deprecated and will be removed in a future version.  Use is_categorical_dtype instead\n",
            "  if pdtypes.is_categorical(arr):\n"
          ]
        },
        {
          "output_type": "display_data",
          "data": {
            "image/png": "[encoded data removed]",
            "text/plain": [
              "<Figure size 640x480 with 1 Axes>"
            ]
          },
          "metadata": {}
        },
        {
          "output_type": "execute_result",
          "data": {
            "text/plain": [
              "<ggplot: (8747200543885)>"
            ]
          },
          "metadata": {},
          "execution_count": 9
        }
      ]
    },
    {
      "cell_type": "code",
      "source": [
        "monthqty = df[['Month', 'Quantity', 'Region']].groupby(['Month','Region']).sum().reset_index()"
      ],
      "metadata": {
        "id": "d9LJ7cW2x-vq"
      },
      "execution_count": null,
      "outputs": []
    },
    {
      "cell_type": "code",
      "source": [
        "## this chart shows that there's not really any varying quantity purchases given a different month. \n",
        "(ggplot(monthqty, aes('Region', 'Quantity', fill='Month'))\n",
        " + geom_col() +\n",
        " theme_linedraw() +\n",
        " ggtitle(\"Quantity By Region\"))"
      ],
      "metadata": {
        "colab": {
          "base_uri": "https://localhost:8080/",
          "height": 546
        },
        "id": "iytQ32UwyCf8",
        "outputId": "2292b11a-4c22-4680-caa1-79f02a52d9eb"
      },
      "execution_count": null,
      "outputs": [
        {
          "output_type": "stream",
          "name": "stderr",
          "text": [
            "/usr/local/lib/python3.7/dist-packages/plotnine/utils.py:1246: FutureWarning: is_categorical is deprecated and will be removed in a future version.  Use is_categorical_dtype instead\n",
            "  if pdtypes.is_categorical(arr):\n"
          ]
        },
        {
          "output_type": "display_data",
          "data": {
            "image/png": "[encoded data removed]",
            "text/plain": [
              "<Figure size 640x480 with 1 Axes>"
            ]
          },
          "metadata": {}
        },
        {
          "output_type": "execute_result",
          "data": {
            "text/plain": [
              "<ggplot: (8747197098197)>"
            ]
          },
          "metadata": {},
          "execution_count": 12
        }
      ]
    },
    {
      "cell_type": "code",
      "source": [
        "## Histogram of Quantity to check for frequenccies and occurences. \n",
        "plt.hist(full_df['Quantity'], bins=[1,2,3,4,5,6])\n",
        "plt.title(\"Histogram of Quantity\")"
      ],
      "metadata": {
        "colab": {
          "base_uri": "https://localhost:8080/",
          "height": 299
        },
        "id": "RttV6SQGyO_7",
        "outputId": "9f72cec8-bc69-49e4-e86c-4293620fd694"
      },
      "execution_count": null,
      "outputs": [
        {
          "output_type": "execute_result",
          "data": {
            "text/plain": [
              "Text(0.5, 1.0, 'Histogram of Quantity')"
            ]
          },
          "metadata": {},
          "execution_count": 16
        },
        {
          "output_type": "display_data",
          "data": {
            "image/png": "[encoded data removed]",
            "text/plain": [
              "<Figure size 432x288 with 1 Axes>"
            ]
          },
          "metadata": {
            "needs_background": "light"
          }
        }
      ]
    },
    {
      "cell_type": "code",
      "source": [
        "### Bar graph of Regions by revenue\n",
        "plt.bar(full_df['Region'],full_df['Revenue'])"
      ],
      "metadata": {
        "colab": {
          "base_uri": "https://localhost:8080/",
          "height": 283
        },
        "id": "Bbio-c06xmAq",
        "outputId": "45eaccbb-97d9-4f58-ae41-220137f59f94"
      },
      "execution_count": null,
      "outputs": [
        {
          "output_type": "execute_result",
          "data": {
            "text/plain": [
              "<BarContainer object of 6172 artists>"
            ]
          },
          "metadata": {},
          "execution_count": 17
        },
        {
          "output_type": "display_data",
          "data": {
            "image/png": "[encoded data removed]",
            "text/plain": [
              "<Figure size 432x288 with 1 Axes>"
            ]
          },
          "metadata": {
            "needs_background": "light"
          }
        }
      ]
    },
    {
      "cell_type": "code",
      "source": [
        "plt.hist(full_df['Time (minutes)'], bins = [10,20,30,40,50,60,70,80,90])\n",
        "plt.title(\"Histogram of Time(Mins)\")"
      ],
      "metadata": {
        "colab": {
          "base_uri": "https://localhost:8080/",
          "height": 299
        },
        "id": "laJxW88lzBGn",
        "outputId": "13a39d28-c984-48b0-a49f-45416173c134"
      },
      "execution_count": null,
      "outputs": [
        {
          "output_type": "execute_result",
          "data": {
            "text/plain": [
              "Text(0.5, 1.0, 'Histogram of Time(Mins)')"
            ]
          },
          "metadata": {},
          "execution_count": 19
        },
        {
          "output_type": "display_data",
          "data": {
            "image/png": "[encoded data removed]",
            "text/plain": [
              "<Figure size 432x288 with 1 Axes>"
            ]
          },
          "metadata": {
            "needs_background": "light"
          }
        }
      ]
    },
    {
      "cell_type": "code",
      "source": [
        "### Plot of count of product types. \n",
        "full_df.value_counts('Product Type').plot(kind='bar')\n",
        "plt.title(\"Product counts by type\")"
      ],
      "metadata": {
        "colab": {
          "base_uri": "https://localhost:8080/",
          "height": 310
        },
        "id": "bCFZdKEUzJE-",
        "outputId": "21ca19d8-f6fe-4302-cee6-51be556f20e6"
      },
      "execution_count": null,
      "outputs": [
        {
          "output_type": "execute_result",
          "data": {
            "text/plain": [
              "Text(0.5, 1.0, 'Product counts by type')"
            ]
          },
          "metadata": {},
          "execution_count": 21
        },
        {
          "output_type": "display_data",
          "data": {
            "image/png": "[encoded data removed]",
            "text/plain": [
              "<Figure size 432x288 with 1 Axes>"
            ]
          },
          "metadata": {
            "needs_background": "light"
          }
        }
      ]
    },
    {
      "cell_type": "code",
      "source": [
        "### Checking for distribution of time variable. The plot shows tthat the distribution is fairly normal. \n",
        "from fitter import Fitter, get_common_distributions, get_distributions\n",
        "height = full_df['Time (minutes)'].values\n",
        "f = Fitter(height,\n",
        "           distributions=['gamma',\n",
        "                          'lognorm',\n",
        "                          \"beta\",\n",
        "                          \"burr\",\n",
        "                          \"norm\",\n",
        "                          \"uniform\"])\n",
        "f.fit()\n",
        "f.summary()"
      ],
      "metadata": {
        "colab": {
          "base_uri": "https://localhost:8080/",
          "height": 454
        },
        "id": "Ru6R6tSpzkBa",
        "outputId": "06ea1b0a-f7d1-433d-b10a-f47acf73d4c7"
      },
      "execution_count": null,
      "outputs": [
        {
          "output_type": "execute_result",
          "data": {
            "text/html": [
              "\n",
              "  <div id=\"df-62d32b5f-a796-4b18-b50c-016fc476d8f5\">\n",
              "    <div class=\"colab-df-container\">\n",
              "      <div>\n",
              "<style scoped>\n",
              "    .dataframe tbody tr th:only-of-type {\n",
              "        vertical-align: middle;\n",
              "    }\n",
              "\n",
              "    .dataframe tbody tr th {\n",
              "        vertical-align: top;\n",
              "    }\n",
              "\n",
              "    .dataframe thead th {\n",
              "        text-align: right;\n",
              "    }\n",
              "</style>\n",
              "<table border=\"1\" class=\"dataframe\">\n",
              "  <thead>\n",
              "    <tr style=\"text-align: right;\">\n",
              "      <th></th>\n",
              "      <th>sumsquare_error</th>\n",
              "      <th>aic</th>\n",
              "      <th>bic</th>\n",
              "      <th>kl_div</th>\n",
              "    </tr>\n",
              "  </thead>\n",
              "  <tbody>\n",
              "    <tr>\n",
              "      <th>lognorm</th>\n",
              "      <td>0.000324</td>\n",
              "      <td>1064.995187</td>\n",
              "      <td>-103434.140355</td>\n",
              "      <td>inf</td>\n",
              "    </tr>\n",
              "    <tr>\n",
              "      <th>gamma</th>\n",
              "      <td>0.000324</td>\n",
              "      <td>1064.418506</td>\n",
              "      <td>-103429.693693</td>\n",
              "      <td>inf</td>\n",
              "    </tr>\n",
              "    <tr>\n",
              "      <th>beta</th>\n",
              "      <td>0.000325</td>\n",
              "      <td>1081.173720</td>\n",
              "      <td>-103412.745891</td>\n",
              "      <td>inf</td>\n",
              "    </tr>\n",
              "    <tr>\n",
              "      <th>norm</th>\n",
              "      <td>0.000334</td>\n",
              "      <td>1057.800971</td>\n",
              "      <td>-103259.382427</td>\n",
              "      <td>inf</td>\n",
              "    </tr>\n",
              "    <tr>\n",
              "      <th>burr</th>\n",
              "      <td>0.000607</td>\n",
              "      <td>1032.520640</td>\n",
              "      <td>-99545.823843</td>\n",
              "      <td>inf</td>\n",
              "    </tr>\n",
              "  </tbody>\n",
              "</table>\n",
              "</div>\n",
              "      <button class=\"colab-df-convert\" onclick=\"convertToInteractive('df-62d32b5f-a796-4b18-b50c-016fc476d8f5')\"\n",
              "              title=\"Convert this dataframe to an interactive table.\"\n",
              "              style=\"display:none;\">\n",
              "        \n",
              "  <svg xmlns=\"http://www.w3.org/2000/svg\" height=\"24px\"viewBox=\"0 0 24 24\"\n",
              "       width=\"24px\">\n",
              "    <path d=\"M0 0h24v24H0V0z\" fill=\"none\"/>\n",
              "    <path d=\"M18.56 5.44l.94 2.06.94-2.06 2.06-.94-2.06-.94-.94-2.06-.94 2.06-2.06.94zm-11 1L8.5 8.5l.94-2.06 2.06-.94-2.06-.94L8.5 2.5l-.94 2.06-2.06.94zm10 10l.94 2.06.94-2.06 2.06-.94-2.06-.94-.94-2.06-.94 2.06-2.06.94z\"/><path d=\"M17.41 7.96l-1.37-1.37c-.4-.4-.92-.59-1.43-.59-.52 0-1.04.2-1.43.59L10.3 9.45l-7.72 7.72c-.78.78-.78 2.05 0 2.83L4 21.41c.39.39.9.59 1.41.59.51 0 1.02-.2 1.41-.59l7.78-7.78 2.81-2.81c.8-.78.8-2.07 0-2.86zM5.41 20L4 18.59l7.72-7.72 1.47 1.35L5.41 20z\"/>\n",
              "  </svg>\n",
              "      </button>\n",
              "      \n",
              "  <style>\n",
              "    .colab-df-container {\n",
              "      display:flex;\n",
              "      flex-wrap:wrap;\n",
              "      gap: 12px;\n",
              "    }\n",
              "\n",
              "    .colab-df-convert {\n",
              "      background-color: #E8F0FE;\n",
              "      border: none;\n",
              "      border-radius: 50%;\n",
              "      cursor: pointer;\n",
              "      display: none;\n",
              "      fill: #1967D2;\n",
              "      height: 32px;\n",
              "      padding: 0 0 0 0;\n",
              "      width: 32px;\n",
              "    }\n",
              "\n",
              "    .colab-df-convert:hover {\n",
              "      background-color: #E2EBFA;\n",
              "      box-shadow: 0px 1px 2px rgba(60, 64, 67, 0.3), 0px 1px 3px 1px rgba(60, 64, 67, 0.15);\n",
              "      fill: #174EA6;\n",
              "    }\n",
              "\n",
              "    [theme=dark] .colab-df-convert {\n",
              "      background-color: #3B4455;\n",
              "      fill: #D2E3FC;\n",
              "    }\n",
              "\n",
              "    [theme=dark] .colab-df-convert:hover {\n",
              "      background-color: #434B5C;\n",
              "      box-shadow: 0px 1px 3px 1px rgba(0, 0, 0, 0.15);\n",
              "      filter: drop-shadow(0px 1px 2px rgba(0, 0, 0, 0.3));\n",
              "      fill: #FFFFFF;\n",
              "    }\n",
              "  </style>\n",
              "\n",
              "      <script>\n",
              "        const buttonEl =\n",
              "          document.querySelector('#df-62d32b5f-a796-4b18-b50c-016fc476d8f5 button.colab-df-convert');\n",
              "        buttonEl.style.display =\n",
              "          google.colab.kernel.accessAllowed ? 'block' : 'none';\n",
              "\n",
              "        async function convertToInteractive(key) {\n",
              "          const element = document.querySelector('#df-62d32b5f-a796-4b18-b50c-016fc476d8f5');\n",
              "          const dataTable =\n",
              "            await google.colab.kernel.invokeFunction('convertToInteractive',\n",
              "                                                     [key], {});\n",
              "          if (!dataTable) return;\n",
              "\n",
              "          const docLinkHtml = 'Like what you see? Visit the ' +\n",
              "            '<a target=\"_blank\" href=https://colab.research.google.com/notebooks/data_table.ipynb>data table notebook</a>'\n",
              "            + ' to learn more about interactive tables.';\n",
              "          element.innerHTML = '';\n",
              "          dataTable['output_type'] = 'display_data';\n",
              "          await google.colab.output.renderOutput(dataTable, element);\n",
              "          const docLink = document.createElement('div');\n",
              "          docLink.innerHTML = docLinkHtml;\n",
              "          element.appendChild(docLink);\n",
              "        }\n",
              "      </script>\n",
              "    </div>\n",
              "  </div>\n",
              "  "
            ],
            "text/plain": [
              "         sumsquare_error          aic            bic  kl_div\n",
              "lognorm         0.000324  1064.995187 -103434.140355     inf\n",
              "gamma           0.000324  1064.418506 -103429.693693     inf\n",
              "beta            0.000325  1081.173720 -103412.745891     inf\n",
              "norm            0.000334  1057.800971 -103259.382427     inf\n",
              "burr            0.000607  1032.520640  -99545.823843     inf"
            ]
          },
          "metadata": {},
          "execution_count": 26
        },
        {
          "output_type": "display_data",
          "data": {
            "image/png": "[encoded data removed]",
            "text/plain": [
              "<Figure size 432x288 with 1 Axes>"
            ]
          },
          "metadata": {
            "needs_background": "light"
          }
        }
      ]
    },
    {
      "cell_type": "code",
      "source": [
        "## Q2 without any marketing efforts. \n",
        "from numpy.lib.function_base import average\n",
        "import random as rd\n",
        "time_mean=50\n",
        "time_sd=9.875\n",
        "quanity_mean=2.608\n",
        "quanity_sd=1.369\n",
        "Customer=int(input('Input the number of people you wish to simulate: '))\n",
        "time_lst=list()\n",
        "Region_lst= list()\n",
        "product_lst=list()\n",
        "quanity_lst=list()\n",
        "for i in range (1, Customer+1):\n",
        "  if i == 1:\n",
        "     time = rd.normalvariate(time_mean, time_sd)\n",
        "     quanity=rd.normalvariate(quanity_mean,quanity_sd)\n",
        "     value=rd.random()\n",
        "     Product_value=rd.random()\n",
        "     time_lst.append(time)\n",
        "     quanity_lst.append(quanity)\n",
        "     #print('the  time customer might spend on Website is ', time, 'minutes')\n",
        "     if (value < .33):\n",
        "       region=1\n",
        "       Region_lst.append(region)\n",
        "       #print('this customer is from WestCoast Region')\n",
        "     elif (.33< value <.66):\n",
        "       region=2\n",
        "       Region_lst.append(region)\n",
        "       #print('this customer is from East Region')\n",
        "     else:\n",
        "       region=3\n",
        "       Region_lst.append(region)\n",
        "       #print('this customer is from Midwest Region')\n",
        "       if (Product_value < .167):\n",
        "           product=1 \n",
        "           product_lst.append(product)               \n",
        "       elif (.167< Product_value <.334):\n",
        "           product=2\n",
        "           product_lst.append(product)  \n",
        "       elif (.334<Product_value<.5):\n",
        "           product=3\n",
        "           product_lst.append(product) \n",
        "\n",
        "       elif (.5<Product_value<.667):\n",
        "           product=4\n",
        "           product_lst.append(product) \n",
        "       elif (.667<Product_value<.833):\n",
        "           product=5\n",
        "           product_lst.append(product) \n",
        "       else:\n",
        "           product=6\n",
        "           product_lst.append(product)  \n",
        "            \n",
        "  else: \n",
        "      time = rd.normalvariate(time_mean, time_sd)\n",
        "      time_lst.append(time)\n",
        "      value=rd.random()\n",
        "      Product_value=rd.random()\n",
        "      quanity=rd.normalvariate(quanity_mean,quanity_sd)\n",
        "      quanity_lst.append(quanity)\n",
        "      if (value < .33):\n",
        "       region=1\n",
        "       Region_lst.append(region)\n",
        "      elif (.33< value <.66):\n",
        "       region=2\n",
        "       Region_lst.append(region)\n",
        "      else:\n",
        "       region=3\n",
        "       Region_lst.append(region)\n",
        "       if (Product_value < .167):\n",
        "           product=1 \n",
        "           product_lst.append(product)               \n",
        "       elif (.167< Product_value <.334):\n",
        "           product=2\n",
        "           product_lst.append(product)  \n",
        "       elif (.334<Product_value<.5):\n",
        "           product=3\n",
        "           product_lst.append(product) \n",
        "\n",
        "       elif (.5<Product_value<.667):\n",
        "           product=4\n",
        "           product_lst.append(product) \n",
        "       elif (.667<Product_value<.833):\n",
        "           product=5\n",
        "           product_lst.append(product) \n",
        "       else:\n",
        "           product=6\n",
        "           product_lst.append(product)  \n",
        "      #print('the  time customer',i, 'might spend on Website is ', time, 'minutes')\n",
        "\n",
        "West=Region_lst.count(1)\n",
        "East=Region_lst.count(2)\n",
        "Mid=Region_lst.count(3)\n",
        "Total=len(Region_lst)\n",
        "West_p= West/Total*100\n",
        "East_p= East/Total*100\n",
        "Mid_p= Mid/Total*100\n",
        "time_spend=average(time_lst)\n",
        "print('There are %', West_p,'customer from the WestCoast region,\\n %',East_p,'customer from the EastCoast region and \\n %', Mid_p,'customer from the Midwest region')\n",
        "print('On average, customer spend ',time_spend,'minutes viewing the websites')\n",
        "\n",
        "\n",
        "p1=product_lst.count(1)\n",
        "p2=product_lst.count(2)\n",
        "p3=product_lst.count(3)\n",
        "p4=product_lst.count(4)\n",
        "p5=product_lst.count(5)\n",
        "p6=product_lst.count(6)\n",
        "Total_product =len(product_lst)\n",
        "p1_p=p1/Total_product*100\n",
        "p2_p=p2/Total_product*100\n",
        "p3_p=p3/Total_product*100\n",
        "p4_p=p4/Total_product*100\n",
        "p5_p=p5/Total_product*100\n",
        "p6_p=p6/Total_product*100\n",
        "\n",
        "\n",
        "print('Out of all the customer, %',p1_p,'of customer purchase product 1,\\n %',p2_p,'of customer purchase product 2,\\n %',p3_p,'of customer purchase product 3,\\n %',p4_p,'of customer purchase product 4,\\n %',p5_p,'of customer purchase product 5,\\n %',p6_p,'of customer purchase product 6')\n",
        "\n",
        "quanity_purches=average(quanity_lst)\n",
        "print('On average, customers purchase ',quanity_purches, 'products for every transactions')"
      ],
      "metadata": {
        "colab": {
          "base_uri": "https://localhost:8080/",
          "height": 0
        },
        "id": "-_LAWrvL0Lt3",
        "outputId": "7a051156-a3b1-4bfb-b9e8-a0ef87d7a0a2"
      },
      "execution_count": 359,
      "outputs": [
        {
          "output_type": "stream",
          "name": "stdout",
          "text": [
            "Input the number of people you wish to simulate: 1000\n",
            "There are % 31.4 customer from the WestCoast region,\n",
            " % 31.8 customer from the EastCoast region and \n",
            " % 36.8 customer from the Midwest region\n",
            "On average, customer spend  50.38532240163821 minutes viewing the websites\n",
            "Out of all the customer, % 11.41304347826087 of customer purchase product 1,\n",
            " % 18.206521739130434 of customer purchase product 2,\n",
            " % 18.206521739130434 of customer purchase product 3,\n",
            " % 17.391304347826086 of customer purchase product 4,\n",
            " % 19.293478260869566 of customer purchase product 5,\n",
            " % 15.489130434782608 of customer purchase product 6\n",
            "On average, customers purchase  2.594697876474123 products for every transactions\n"
          ]
        }
      ]
    },
    {
      "cell_type": "code",
      "source": [
        "import statistics as st\n",
        "plt.hist(quanity_lst)\n",
        "print('Max Quantity = ', max(quanity_lst))\n",
        "print('Min Quantity = ', min(quanity_lst))\n",
        "#print('Mode Profit = ', st.mode(results))\n",
        "print('Median Quantity', st.median(quanity_lst))\n",
        "print('Avg Quantity = ', st.mean(quanity_lst))"
      ],
      "metadata": {
        "colab": {
          "base_uri": "https://localhost:8080/",
          "height": 336
        },
        "id": "rGxeFtBP0W9j",
        "outputId": "fe7d92bf-b85b-4ab6-e28c-ae855723b865"
      },
      "execution_count": 360,
      "outputs": [
        {
          "output_type": "stream",
          "name": "stdout",
          "text": [
            "Max Quantity =  7.0210248303990035\n",
            "Min Quantity =  -1.6930684121372779\n",
            "Median Quantity 2.5218525020309435\n",
            "Avg Quantity =  2.594697876474123\n"
          ]
        },
        {
          "output_type": "display_data",
          "data": {
            "image/png": "[encoded data removed]",
            "text/plain": [
              "<Figure size 432x288 with 1 Axes>"
            ]
          },
          "metadata": {
            "needs_background": "light"
          }
        }
      ]
    },
    {
      "cell_type": "markdown",
      "source": [
        "Q3. with marketing efforts. Based on the analysis and some manipulation, we see that EastCoast with Product 1 has the highest\n",
        " quantity sold at 4357, and this is 27% of th total quantity by region and product type. So, we will focus on this specific \n",
        " region as this is our highest customer base and lot of people also spend the time to browse the website. So, it makes \n",
        "sense to market to this segment and expect a 20% increease. \n"
      ],
      "metadata": {
        "id": "RWagz18fuhbE"
      }
    },
    {
      "cell_type": "code",
      "source": [
        " proportion = full_df[['Region', 'Quantity', 'Product Type','Time (minutes)']].groupby(['Region', 'Product Type']).sum()\n",
        "proportion = proportion.reset_index()\n",
        "proportion['Quantity_percentage'] = proportion['Quantity']/ proportion['Quantity'].sum()\n",
        "proportion['Time (minutes)_percentage'] = proportion['Time (minutes)']/ proportion['Time (minutes)'].sum()\n",
        "proportion"
      ],
      "metadata": {
        "colab": {
          "base_uri": "https://localhost:8080/",
          "height": 520
        },
        "id": "JfIcpxE93KNr",
        "outputId": "553314b5-458f-4871-fe0a-e5addc10045e"
      },
      "execution_count": null,
      "outputs": [
        {
          "output_type": "execute_result",
          "data": {
            "text/html": [
              "\n",
              "  <div id=\"df-929d480e-f322-4640-aff5-e7e8922b3479\">\n",
              "    <div class=\"colab-df-container\">\n",
              "      <div>\n",
              "<style scoped>\n",
              "    .dataframe tbody tr th:only-of-type {\n",
              "        vertical-align: middle;\n",
              "    }\n",
              "\n",
              "    .dataframe tbody tr th {\n",
              "        vertical-align: top;\n",
              "    }\n",
              "\n",
              "    .dataframe thead th {\n",
              "        text-align: right;\n",
              "    }\n",
              "</style>\n",
              "<table border=\"1\" class=\"dataframe\">\n",
              "  <thead>\n",
              "    <tr style=\"text-align: right;\">\n",
              "      <th></th>\n",
              "      <th>Region</th>\n",
              "      <th>Product Type</th>\n",
              "      <th>Quantity</th>\n",
              "      <th>Time (minutes)</th>\n",
              "      <th>Quantity_percentage</th>\n",
              "      <th>Time (minutes)_percentage</th>\n",
              "    </tr>\n",
              "  </thead>\n",
              "  <tbody>\n",
              "    <tr>\n",
              "      <th>0</th>\n",
              "      <td>EastCoast</td>\n",
              "      <td>1</td>\n",
              "      <td>4357</td>\n",
              "      <td>83330.972034</td>\n",
              "      <td>0.270621</td>\n",
              "      <td>0.270008</td>\n",
              "    </tr>\n",
              "    <tr>\n",
              "      <th>1</th>\n",
              "      <td>EastCoast</td>\n",
              "      <td>2</td>\n",
              "      <td>952</td>\n",
              "      <td>18024.689586</td>\n",
              "      <td>0.059130</td>\n",
              "      <td>0.058403</td>\n",
              "    </tr>\n",
              "    <tr>\n",
              "      <th>2</th>\n",
              "      <td>EastCoast</td>\n",
              "      <td>3</td>\n",
              "      <td>849</td>\n",
              "      <td>16629.909488</td>\n",
              "      <td>0.052733</td>\n",
              "      <td>0.053884</td>\n",
              "    </tr>\n",
              "    <tr>\n",
              "      <th>3</th>\n",
              "      <td>EastCoast</td>\n",
              "      <td>4</td>\n",
              "      <td>886</td>\n",
              "      <td>16923.578039</td>\n",
              "      <td>0.055031</td>\n",
              "      <td>0.054836</td>\n",
              "    </tr>\n",
              "    <tr>\n",
              "      <th>4</th>\n",
              "      <td>EastCoast</td>\n",
              "      <td>5</td>\n",
              "      <td>873</td>\n",
              "      <td>16835.890683</td>\n",
              "      <td>0.054224</td>\n",
              "      <td>0.054551</td>\n",
              "    </tr>\n",
              "    <tr>\n",
              "      <th>5</th>\n",
              "      <td>Midwest</td>\n",
              "      <td>1</td>\n",
              "      <td>222</td>\n",
              "      <td>3942.579629</td>\n",
              "      <td>0.013789</td>\n",
              "      <td>0.012775</td>\n",
              "    </tr>\n",
              "    <tr>\n",
              "      <th>6</th>\n",
              "      <td>Midwest</td>\n",
              "      <td>2</td>\n",
              "      <td>139</td>\n",
              "      <td>2515.961623</td>\n",
              "      <td>0.008634</td>\n",
              "      <td>0.008152</td>\n",
              "    </tr>\n",
              "    <tr>\n",
              "      <th>7</th>\n",
              "      <td>Midwest</td>\n",
              "      <td>3</td>\n",
              "      <td>2273</td>\n",
              "      <td>44518.167824</td>\n",
              "      <td>0.141180</td>\n",
              "      <td>0.144247</td>\n",
              "    </tr>\n",
              "    <tr>\n",
              "      <th>8</th>\n",
              "      <td>Midwest</td>\n",
              "      <td>4</td>\n",
              "      <td>332</td>\n",
              "      <td>6190.285963</td>\n",
              "      <td>0.020621</td>\n",
              "      <td>0.020058</td>\n",
              "    </tr>\n",
              "    <tr>\n",
              "      <th>9</th>\n",
              "      <td>Midwest</td>\n",
              "      <td>5</td>\n",
              "      <td>284</td>\n",
              "      <td>5688.354176</td>\n",
              "      <td>0.017640</td>\n",
              "      <td>0.018431</td>\n",
              "    </tr>\n",
              "    <tr>\n",
              "      <th>10</th>\n",
              "      <td>WestCoast</td>\n",
              "      <td>1</td>\n",
              "      <td>945</td>\n",
              "      <td>17484.018438</td>\n",
              "      <td>0.058696</td>\n",
              "      <td>0.056651</td>\n",
              "    </tr>\n",
              "    <tr>\n",
              "      <th>11</th>\n",
              "      <td>WestCoast</td>\n",
              "      <td>2</td>\n",
              "      <td>967</td>\n",
              "      <td>17822.218332</td>\n",
              "      <td>0.060062</td>\n",
              "      <td>0.057747</td>\n",
              "    </tr>\n",
              "    <tr>\n",
              "      <th>12</th>\n",
              "      <td>WestCoast</td>\n",
              "      <td>3</td>\n",
              "      <td>469</td>\n",
              "      <td>8905.637644</td>\n",
              "      <td>0.029130</td>\n",
              "      <td>0.028856</td>\n",
              "    </tr>\n",
              "    <tr>\n",
              "      <th>13</th>\n",
              "      <td>WestCoast</td>\n",
              "      <td>4</td>\n",
              "      <td>1006</td>\n",
              "      <td>19625.365813</td>\n",
              "      <td>0.062484</td>\n",
              "      <td>0.063590</td>\n",
              "    </tr>\n",
              "    <tr>\n",
              "      <th>14</th>\n",
              "      <td>WestCoast</td>\n",
              "      <td>5</td>\n",
              "      <td>1546</td>\n",
              "      <td>30186.693206</td>\n",
              "      <td>0.096025</td>\n",
              "      <td>0.097810</td>\n",
              "    </tr>\n",
              "  </tbody>\n",
              "</table>\n",
              "</div>\n",
              "      <button class=\"colab-df-convert\" onclick=\"convertToInteractive('df-929d480e-f322-4640-aff5-e7e8922b3479')\"\n",
              "              title=\"Convert this dataframe to an interactive table.\"\n",
              "              style=\"display:none;\">\n",
              "        \n",
              "  <svg xmlns=\"http://www.w3.org/2000/svg\" height=\"24px\"viewBox=\"0 0 24 24\"\n",
              "       width=\"24px\">\n",
              "    <path d=\"M0 0h24v24H0V0z\" fill=\"none\"/>\n",
              "    <path d=\"M18.56 5.44l.94 2.06.94-2.06 2.06-.94-2.06-.94-.94-2.06-.94 2.06-2.06.94zm-11 1L8.5 8.5l.94-2.06 2.06-.94-2.06-.94L8.5 2.5l-.94 2.06-2.06.94zm10 10l.94 2.06.94-2.06 2.06-.94-2.06-.94-.94-2.06-.94 2.06-2.06.94z\"/><path d=\"M17.41 7.96l-1.37-1.37c-.4-.4-.92-.59-1.43-.59-.52 0-1.04.2-1.43.59L10.3 9.45l-7.72 7.72c-.78.78-.78 2.05 0 2.83L4 21.41c.39.39.9.59 1.41.59.51 0 1.02-.2 1.41-.59l7.78-7.78 2.81-2.81c.8-.78.8-2.07 0-2.86zM5.41 20L4 18.59l7.72-7.72 1.47 1.35L5.41 20z\"/>\n",
              "  </svg>\n",
              "      </button>\n",
              "      \n",
              "  <style>\n",
              "    .colab-df-container {\n",
              "      display:flex;\n",
              "      flex-wrap:wrap;\n",
              "      gap: 12px;\n",
              "    }\n",
              "\n",
              "    .colab-df-convert {\n",
              "      background-color: #E8F0FE;\n",
              "      border: none;\n",
              "      border-radius: 50%;\n",
              "      cursor: pointer;\n",
              "      display: none;\n",
              "      fill: #1967D2;\n",
              "      height: 32px;\n",
              "      padding: 0 0 0 0;\n",
              "      width: 32px;\n",
              "    }\n",
              "\n",
              "    .colab-df-convert:hover {\n",
              "      background-color: #E2EBFA;\n",
              "      box-shadow: 0px 1px 2px rgba(60, 64, 67, 0.3), 0px 1px 3px 1px rgba(60, 64, 67, 0.15);\n",
              "      fill: #174EA6;\n",
              "    }\n",
              "\n",
              "    [theme=dark] .colab-df-convert {\n",
              "      background-color: #3B4455;\n",
              "      fill: #D2E3FC;\n",
              "    }\n",
              "\n",
              "    [theme=dark] .colab-df-convert:hover {\n",
              "      background-color: #434B5C;\n",
              "      box-shadow: 0px 1px 3px 1px rgba(0, 0, 0, 0.15);\n",
              "      filter: drop-shadow(0px 1px 2px rgba(0, 0, 0, 0.3));\n",
              "      fill: #FFFFFF;\n",
              "    }\n",
              "  </style>\n",
              "\n",
              "      <script>\n",
              "        const buttonEl =\n",
              "          document.querySelector('#df-929d480e-f322-4640-aff5-e7e8922b3479 button.colab-df-convert');\n",
              "        buttonEl.style.display =\n",
              "          google.colab.kernel.accessAllowed ? 'block' : 'none';\n",
              "\n",
              "        async function convertToInteractive(key) {\n",
              "          const element = document.querySelector('#df-929d480e-f322-4640-aff5-e7e8922b3479');\n",
              "          const dataTable =\n",
              "            await google.colab.kernel.invokeFunction('convertToInteractive',\n",
              "                                                     [key], {});\n",
              "          if (!dataTable) return;\n",
              "\n",
              "          const docLinkHtml = 'Like what you see? Visit the ' +\n",
              "            '<a target=\"_blank\" href=https://colab.research.google.com/notebooks/data_table.ipynb>data table notebook</a>'\n",
              "            + ' to learn more about interactive tables.';\n",
              "          element.innerHTML = '';\n",
              "          dataTable['output_type'] = 'display_data';\n",
              "          await google.colab.output.renderOutput(dataTable, element);\n",
              "          const docLink = document.createElement('div');\n",
              "          docLink.innerHTML = docLinkHtml;\n",
              "          element.appendChild(docLink);\n",
              "        }\n",
              "      </script>\n",
              "    </div>\n",
              "  </div>\n",
              "  "
            ],
            "text/plain": [
              "       Region  Product Type  ...  Quantity_percentage  Time (minutes)_percentage\n",
              "0   EastCoast             1  ...             0.270621                   0.270008\n",
              "1   EastCoast             2  ...             0.059130                   0.058403\n",
              "2   EastCoast             3  ...             0.052733                   0.053884\n",
              "3   EastCoast             4  ...             0.055031                   0.054836\n",
              "4   EastCoast             5  ...             0.054224                   0.054551\n",
              "5     Midwest             1  ...             0.013789                   0.012775\n",
              "6     Midwest             2  ...             0.008634                   0.008152\n",
              "7     Midwest             3  ...             0.141180                   0.144247\n",
              "8     Midwest             4  ...             0.020621                   0.020058\n",
              "9     Midwest             5  ...             0.017640                   0.018431\n",
              "10  WestCoast             1  ...             0.058696                   0.056651\n",
              "11  WestCoast             2  ...             0.060062                   0.057747\n",
              "12  WestCoast             3  ...             0.029130                   0.028856\n",
              "13  WestCoast             4  ...             0.062484                   0.063590\n",
              "14  WestCoast             5  ...             0.096025                   0.097810\n",
              "\n",
              "[15 rows x 6 columns]"
            ]
          },
          "metadata": {},
          "execution_count": 138
        }
      ]
    },
    {
      "cell_type": "code",
      "source": [
        "east = full_df.loc[full_df['Region'] == 'EastCoast']\n",
        "east"
      ],
      "metadata": {
        "colab": {
          "base_uri": "https://localhost:8080/",
          "height": 423
        },
        "id": "UUovO3CO4DBn",
        "outputId": "a7172a07-3e3b-4ac7-8119-7ce9328b2c19"
      },
      "execution_count": null,
      "outputs": [
        {
          "output_type": "execute_result",
          "data": {
            "text/html": [
              "\n",
              "  <div id=\"df-0988b15a-4078-412c-9b38-b764e98e0316\">\n",
              "    <div class=\"colab-df-container\">\n",
              "      <div>\n",
              "<style scoped>\n",
              "    .dataframe tbody tr th:only-of-type {\n",
              "        vertical-align: middle;\n",
              "    }\n",
              "\n",
              "    .dataframe tbody tr th {\n",
              "        vertical-align: top;\n",
              "    }\n",
              "\n",
              "    .dataframe thead th {\n",
              "        text-align: right;\n",
              "    }\n",
              "</style>\n",
              "<table border=\"1\" class=\"dataframe\">\n",
              "  <thead>\n",
              "    <tr style=\"text-align: right;\">\n",
              "      <th></th>\n",
              "      <th>Month</th>\n",
              "      <th>Region</th>\n",
              "      <th>Time (minutes)</th>\n",
              "      <th>Product Type</th>\n",
              "      <th>Quantity</th>\n",
              "      <th>Product_type</th>\n",
              "      <th>Revenue</th>\n",
              "      <th>Capacity</th>\n",
              "    </tr>\n",
              "  </thead>\n",
              "  <tbody>\n",
              "    <tr>\n",
              "      <th>0</th>\n",
              "      <td>1</td>\n",
              "      <td>EastCoast</td>\n",
              "      <td>44.975953</td>\n",
              "      <td>1</td>\n",
              "      <td>1</td>\n",
              "      <td>1</td>\n",
              "      <td>10</td>\n",
              "      <td>6000</td>\n",
              "    </tr>\n",
              "    <tr>\n",
              "      <th>3</th>\n",
              "      <td>1</td>\n",
              "      <td>EastCoast</td>\n",
              "      <td>42.824992</td>\n",
              "      <td>3</td>\n",
              "      <td>2</td>\n",
              "      <td>3</td>\n",
              "      <td>15</td>\n",
              "      <td>4500</td>\n",
              "    </tr>\n",
              "    <tr>\n",
              "      <th>4</th>\n",
              "      <td>1</td>\n",
              "      <td>EastCoast</td>\n",
              "      <td>56.760768</td>\n",
              "      <td>1</td>\n",
              "      <td>2</td>\n",
              "      <td>1</td>\n",
              "      <td>10</td>\n",
              "      <td>6000</td>\n",
              "    </tr>\n",
              "    <tr>\n",
              "      <th>7</th>\n",
              "      <td>1</td>\n",
              "      <td>EastCoast</td>\n",
              "      <td>45.589773</td>\n",
              "      <td>3</td>\n",
              "      <td>1</td>\n",
              "      <td>3</td>\n",
              "      <td>15</td>\n",
              "      <td>4500</td>\n",
              "    </tr>\n",
              "    <tr>\n",
              "      <th>8</th>\n",
              "      <td>1</td>\n",
              "      <td>EastCoast</td>\n",
              "      <td>44.088041</td>\n",
              "      <td>1</td>\n",
              "      <td>3</td>\n",
              "      <td>1</td>\n",
              "      <td>10</td>\n",
              "      <td>6000</td>\n",
              "    </tr>\n",
              "    <tr>\n",
              "      <th>...</th>\n",
              "      <td>...</td>\n",
              "      <td>...</td>\n",
              "      <td>...</td>\n",
              "      <td>...</td>\n",
              "      <td>...</td>\n",
              "      <td>...</td>\n",
              "      <td>...</td>\n",
              "      <td>...</td>\n",
              "    </tr>\n",
              "    <tr>\n",
              "      <th>6163</th>\n",
              "      <td>6</td>\n",
              "      <td>EastCoast</td>\n",
              "      <td>42.303595</td>\n",
              "      <td>2</td>\n",
              "      <td>1</td>\n",
              "      <td>2</td>\n",
              "      <td>12</td>\n",
              "      <td>2200</td>\n",
              "    </tr>\n",
              "    <tr>\n",
              "      <th>6164</th>\n",
              "      <td>6</td>\n",
              "      <td>EastCoast</td>\n",
              "      <td>53.557753</td>\n",
              "      <td>1</td>\n",
              "      <td>1</td>\n",
              "      <td>1</td>\n",
              "      <td>10</td>\n",
              "      <td>6000</td>\n",
              "    </tr>\n",
              "    <tr>\n",
              "      <th>6165</th>\n",
              "      <td>6</td>\n",
              "      <td>EastCoast</td>\n",
              "      <td>33.168065</td>\n",
              "      <td>1</td>\n",
              "      <td>1</td>\n",
              "      <td>1</td>\n",
              "      <td>10</td>\n",
              "      <td>6000</td>\n",
              "    </tr>\n",
              "    <tr>\n",
              "      <th>6169</th>\n",
              "      <td>6</td>\n",
              "      <td>EastCoast</td>\n",
              "      <td>45.969820</td>\n",
              "      <td>1</td>\n",
              "      <td>1</td>\n",
              "      <td>1</td>\n",
              "      <td>10</td>\n",
              "      <td>6000</td>\n",
              "    </tr>\n",
              "    <tr>\n",
              "      <th>6170</th>\n",
              "      <td>6</td>\n",
              "      <td>EastCoast</td>\n",
              "      <td>43.542181</td>\n",
              "      <td>1</td>\n",
              "      <td>2</td>\n",
              "      <td>1</td>\n",
              "      <td>10</td>\n",
              "      <td>6000</td>\n",
              "    </tr>\n",
              "  </tbody>\n",
              "</table>\n",
              "<p>3049 rows × 8 columns</p>\n",
              "</div>\n",
              "      <button class=\"colab-df-convert\" onclick=\"convertToInteractive('df-0988b15a-4078-412c-9b38-b764e98e0316')\"\n",
              "              title=\"Convert this dataframe to an interactive table.\"\n",
              "              style=\"display:none;\">\n",
              "        \n",
              "  <svg xmlns=\"http://www.w3.org/2000/svg\" height=\"24px\"viewBox=\"0 0 24 24\"\n",
              "       width=\"24px\">\n",
              "    <path d=\"M0 0h24v24H0V0z\" fill=\"none\"/>\n",
              "    <path d=\"M18.56 5.44l.94 2.06.94-2.06 2.06-.94-2.06-.94-.94-2.06-.94 2.06-2.06.94zm-11 1L8.5 8.5l.94-2.06 2.06-.94-2.06-.94L8.5 2.5l-.94 2.06-2.06.94zm10 10l.94 2.06.94-2.06 2.06-.94-2.06-.94-.94-2.06-.94 2.06-2.06.94z\"/><path d=\"M17.41 7.96l-1.37-1.37c-.4-.4-.92-.59-1.43-.59-.52 0-1.04.2-1.43.59L10.3 9.45l-7.72 7.72c-.78.78-.78 2.05 0 2.83L4 21.41c.39.39.9.59 1.41.59.51 0 1.02-.2 1.41-.59l7.78-7.78 2.81-2.81c.8-.78.8-2.07 0-2.86zM5.41 20L4 18.59l7.72-7.72 1.47 1.35L5.41 20z\"/>\n",
              "  </svg>\n",
              "      </button>\n",
              "      \n",
              "  <style>\n",
              "    .colab-df-container {\n",
              "      display:flex;\n",
              "      flex-wrap:wrap;\n",
              "      gap: 12px;\n",
              "    }\n",
              "\n",
              "    .colab-df-convert {\n",
              "      background-color: #E8F0FE;\n",
              "      border: none;\n",
              "      border-radius: 50%;\n",
              "      cursor: pointer;\n",
              "      display: none;\n",
              "      fill: #1967D2;\n",
              "      height: 32px;\n",
              "      padding: 0 0 0 0;\n",
              "      width: 32px;\n",
              "    }\n",
              "\n",
              "    .colab-df-convert:hover {\n",
              "      background-color: #E2EBFA;\n",
              "      box-shadow: 0px 1px 2px rgba(60, 64, 67, 0.3), 0px 1px 3px 1px rgba(60, 64, 67, 0.15);\n",
              "      fill: #174EA6;\n",
              "    }\n",
              "\n",
              "    [theme=dark] .colab-df-convert {\n",
              "      background-color: #3B4455;\n",
              "      fill: #D2E3FC;\n",
              "    }\n",
              "\n",
              "    [theme=dark] .colab-df-convert:hover {\n",
              "      background-color: #434B5C;\n",
              "      box-shadow: 0px 1px 3px 1px rgba(0, 0, 0, 0.15);\n",
              "      filter: drop-shadow(0px 1px 2px rgba(0, 0, 0, 0.3));\n",
              "      fill: #FFFFFF;\n",
              "    }\n",
              "  </style>\n",
              "\n",
              "      <script>\n",
              "        const buttonEl =\n",
              "          document.querySelector('#df-0988b15a-4078-412c-9b38-b764e98e0316 button.colab-df-convert');\n",
              "        buttonEl.style.display =\n",
              "          google.colab.kernel.accessAllowed ? 'block' : 'none';\n",
              "\n",
              "        async function convertToInteractive(key) {\n",
              "          const element = document.querySelector('#df-0988b15a-4078-412c-9b38-b764e98e0316');\n",
              "          const dataTable =\n",
              "            await google.colab.kernel.invokeFunction('convertToInteractive',\n",
              "                                                     [key], {});\n",
              "          if (!dataTable) return;\n",
              "\n",
              "          const docLinkHtml = 'Like what you see? Visit the ' +\n",
              "            '<a target=\"_blank\" href=https://colab.research.google.com/notebooks/data_table.ipynb>data table notebook</a>'\n",
              "            + ' to learn more about interactive tables.';\n",
              "          element.innerHTML = '';\n",
              "          dataTable['output_type'] = 'display_data';\n",
              "          await google.colab.output.renderOutput(dataTable, element);\n",
              "          const docLink = document.createElement('div');\n",
              "          docLink.innerHTML = docLinkHtml;\n",
              "          element.appendChild(docLink);\n",
              "        }\n",
              "      </script>\n",
              "    </div>\n",
              "  </div>\n",
              "  "
            ],
            "text/plain": [
              "      Month     Region  Time (minutes)  ... Product_type  Revenue Capacity\n",
              "0         1  EastCoast       44.975953  ...            1       10     6000\n",
              "3         1  EastCoast       42.824992  ...            3       15     4500\n",
              "4         1  EastCoast       56.760768  ...            1       10     6000\n",
              "7         1  EastCoast       45.589773  ...            3       15     4500\n",
              "8         1  EastCoast       44.088041  ...            1       10     6000\n",
              "...     ...        ...             ...  ...          ...      ...      ...\n",
              "6163      6  EastCoast       42.303595  ...            2       12     2200\n",
              "6164      6  EastCoast       53.557753  ...            1       10     6000\n",
              "6165      6  EastCoast       33.168065  ...            1       10     6000\n",
              "6169      6  EastCoast       45.969820  ...            1       10     6000\n",
              "6170      6  EastCoast       43.542181  ...            1       10     6000\n",
              "\n",
              "[3049 rows x 8 columns]"
            ]
          },
          "metadata": {},
          "execution_count": 213
        }
      ]
    },
    {
      "cell_type": "code",
      "source": [
        "east_grouped = east[['Product Type','Quantity','Time (minutes)']].groupby(['Product Type']).sum()\n",
        "east_grouped['Quantity_percentage'] = east_grouped['Quantity']/ east_grouped['Quantity'].sum()\n",
        "east_grouped['Time (minutes)_percentage'] = east_grouped['Time (minutes)']/ east_grouped['Time (minutes)'].sum()\n",
        "east_grouped"
      ],
      "metadata": {
        "colab": {
          "base_uri": "https://localhost:8080/",
          "height": 237
        },
        "id": "W2R3UZ8eIF8r",
        "outputId": "986315ac-981e-4ebd-82f1-e233dda85f2f"
      },
      "execution_count": null,
      "outputs": [
        {
          "output_type": "execute_result",
          "data": {
            "text/html": [
              "\n",
              "  <div id=\"df-eda5e023-8967-4678-b092-5a84b1961179\">\n",
              "    <div class=\"colab-df-container\">\n",
              "      <div>\n",
              "<style scoped>\n",
              "    .dataframe tbody tr th:only-of-type {\n",
              "        vertical-align: middle;\n",
              "    }\n",
              "\n",
              "    .dataframe tbody tr th {\n",
              "        vertical-align: top;\n",
              "    }\n",
              "\n",
              "    .dataframe thead th {\n",
              "        text-align: right;\n",
              "    }\n",
              "</style>\n",
              "<table border=\"1\" class=\"dataframe\">\n",
              "  <thead>\n",
              "    <tr style=\"text-align: right;\">\n",
              "      <th></th>\n",
              "      <th>Quantity</th>\n",
              "      <th>Time (minutes)</th>\n",
              "      <th>Quantity_percentage</th>\n",
              "      <th>Time (minutes)_percentage</th>\n",
              "    </tr>\n",
              "    <tr>\n",
              "      <th>Product Type</th>\n",
              "      <th></th>\n",
              "      <th></th>\n",
              "      <th></th>\n",
              "      <th></th>\n",
              "    </tr>\n",
              "  </thead>\n",
              "  <tbody>\n",
              "    <tr>\n",
              "      <th>1</th>\n",
              "      <td>4357</td>\n",
              "      <td>83330.972034</td>\n",
              "      <td>0.550335</td>\n",
              "      <td>0.549151</td>\n",
              "    </tr>\n",
              "    <tr>\n",
              "      <th>2</th>\n",
              "      <td>952</td>\n",
              "      <td>18024.689586</td>\n",
              "      <td>0.120248</td>\n",
              "      <td>0.118783</td>\n",
              "    </tr>\n",
              "    <tr>\n",
              "      <th>3</th>\n",
              "      <td>849</td>\n",
              "      <td>16629.909488</td>\n",
              "      <td>0.107238</td>\n",
              "      <td>0.109591</td>\n",
              "    </tr>\n",
              "    <tr>\n",
              "      <th>4</th>\n",
              "      <td>886</td>\n",
              "      <td>16923.578039</td>\n",
              "      <td>0.111911</td>\n",
              "      <td>0.111526</td>\n",
              "    </tr>\n",
              "    <tr>\n",
              "      <th>5</th>\n",
              "      <td>873</td>\n",
              "      <td>16835.890683</td>\n",
              "      <td>0.110269</td>\n",
              "      <td>0.110949</td>\n",
              "    </tr>\n",
              "  </tbody>\n",
              "</table>\n",
              "</div>\n",
              "      <button class=\"colab-df-convert\" onclick=\"convertToInteractive('df-eda5e023-8967-4678-b092-5a84b1961179')\"\n",
              "              title=\"Convert this dataframe to an interactive table.\"\n",
              "              style=\"display:none;\">\n",
              "        \n",
              "  <svg xmlns=\"http://www.w3.org/2000/svg\" height=\"24px\"viewBox=\"0 0 24 24\"\n",
              "       width=\"24px\">\n",
              "    <path d=\"M0 0h24v24H0V0z\" fill=\"none\"/>\n",
              "    <path d=\"M18.56 5.44l.94 2.06.94-2.06 2.06-.94-2.06-.94-.94-2.06-.94 2.06-2.06.94zm-11 1L8.5 8.5l.94-2.06 2.06-.94-2.06-.94L8.5 2.5l-.94 2.06-2.06.94zm10 10l.94 2.06.94-2.06 2.06-.94-2.06-.94-.94-2.06-.94 2.06-2.06.94z\"/><path d=\"M17.41 7.96l-1.37-1.37c-.4-.4-.92-.59-1.43-.59-.52 0-1.04.2-1.43.59L10.3 9.45l-7.72 7.72c-.78.78-.78 2.05 0 2.83L4 21.41c.39.39.9.59 1.41.59.51 0 1.02-.2 1.41-.59l7.78-7.78 2.81-2.81c.8-.78.8-2.07 0-2.86zM5.41 20L4 18.59l7.72-7.72 1.47 1.35L5.41 20z\"/>\n",
              "  </svg>\n",
              "      </button>\n",
              "      \n",
              "  <style>\n",
              "    .colab-df-container {\n",
              "      display:flex;\n",
              "      flex-wrap:wrap;\n",
              "      gap: 12px;\n",
              "    }\n",
              "\n",
              "    .colab-df-convert {\n",
              "      background-color: #E8F0FE;\n",
              "      border: none;\n",
              "      border-radius: 50%;\n",
              "      cursor: pointer;\n",
              "      display: none;\n",
              "      fill: #1967D2;\n",
              "      height: 32px;\n",
              "      padding: 0 0 0 0;\n",
              "      width: 32px;\n",
              "    }\n",
              "\n",
              "    .colab-df-convert:hover {\n",
              "      background-color: #E2EBFA;\n",
              "      box-shadow: 0px 1px 2px rgba(60, 64, 67, 0.3), 0px 1px 3px 1px rgba(60, 64, 67, 0.15);\n",
              "      fill: #174EA6;\n",
              "    }\n",
              "\n",
              "    [theme=dark] .colab-df-convert {\n",
              "      background-color: #3B4455;\n",
              "      fill: #D2E3FC;\n",
              "    }\n",
              "\n",
              "    [theme=dark] .colab-df-convert:hover {\n",
              "      background-color: #434B5C;\n",
              "      box-shadow: 0px 1px 3px 1px rgba(0, 0, 0, 0.15);\n",
              "      filter: drop-shadow(0px 1px 2px rgba(0, 0, 0, 0.3));\n",
              "      fill: #FFFFFF;\n",
              "    }\n",
              "  </style>\n",
              "\n",
              "      <script>\n",
              "        const buttonEl =\n",
              "          document.querySelector('#df-eda5e023-8967-4678-b092-5a84b1961179 button.colab-df-convert');\n",
              "        buttonEl.style.display =\n",
              "          google.colab.kernel.accessAllowed ? 'block' : 'none';\n",
              "\n",
              "        async function convertToInteractive(key) {\n",
              "          const element = document.querySelector('#df-eda5e023-8967-4678-b092-5a84b1961179');\n",
              "          const dataTable =\n",
              "            await google.colab.kernel.invokeFunction('convertToInteractive',\n",
              "                                                     [key], {});\n",
              "          if (!dataTable) return;\n",
              "\n",
              "          const docLinkHtml = 'Like what you see? Visit the ' +\n",
              "            '<a target=\"_blank\" href=https://colab.research.google.com/notebooks/data_table.ipynb>data table notebook</a>'\n",
              "            + ' to learn more about interactive tables.';\n",
              "          element.innerHTML = '';\n",
              "          dataTable['output_type'] = 'display_data';\n",
              "          await google.colab.output.renderOutput(dataTable, element);\n",
              "          const docLink = document.createElement('div');\n",
              "          docLink.innerHTML = docLinkHtml;\n",
              "          element.appendChild(docLink);\n",
              "        }\n",
              "      </script>\n",
              "    </div>\n",
              "  </div>\n",
              "  "
            ],
            "text/plain": [
              "              Quantity  ...  Time (minutes)_percentage\n",
              "Product Type            ...                           \n",
              "1                 4357  ...                   0.549151\n",
              "2                  952  ...                   0.118783\n",
              "3                  849  ...                   0.109591\n",
              "4                  886  ...                   0.111526\n",
              "5                  873  ...                   0.110949\n",
              "\n",
              "[5 rows x 4 columns]"
            ]
          },
          "metadata": {},
          "execution_count": 215
        }
      ]
    },
    {
      "cell_type": "code",
      "source": [
        "weighted_product = random.choices([1,2,3,4,5] , [55.0335, 12.0248, 10.7238, 11.1911, 11.0269])\n",
        "weighted_product = print(*weighted_product)"
      ],
      "metadata": {
        "colab": {
          "base_uri": "https://localhost:8080/"
        },
        "id": "DvLnBEEFIj7O",
        "outputId": "e82f09d0-cc3b-401f-ea1b-eaae6480d19c"
      },
      "execution_count": null,
      "outputs": [
        {
          "output_type": "stream",
          "name": "stdout",
          "text": [
            "1\n"
          ]
        }
      ]
    },
    {
      "cell_type": "code",
      "source": [
        "#proportion[proportion['Region']=='EastCoast'].mean()\n",
        "print(east[east['Region']=='EastCoast'].describe())"
      ],
      "metadata": {
        "id": "pNaYksQ58GRB",
        "colab": {
          "base_uri": "https://localhost:8080/"
        },
        "outputId": "9824815d-66ba-47b2-ca70-2b59a407e3ac"
      },
      "execution_count": 381,
      "outputs": [
        {
          "output_type": "stream",
          "name": "stdout",
          "text": [
            "             Month  Time (minutes)     Quantity    qty_array\n",
            "count  3049.000000     3049.000000  3049.000000  3049.000000\n",
            "mean      3.613316       49.768790     2.596589     2.607740\n",
            "std       1.697526        9.928303     1.367245     1.688753\n",
            "min       1.000000       16.624108     1.000000    -2.233197\n",
            "25%       2.000000       43.005604     2.000000     1.426169\n",
            "50%       4.000000       49.618364     2.000000     2.477132\n",
            "75%       5.000000       56.504273     3.000000     3.626547\n",
            "max       6.000000       80.190180     6.000000     8.131246\n"
          ]
        }
      ]
    },
    {
      "cell_type": "markdown",
      "source": [
        "## Approach one \n",
        "We used a weighted product type system to make sure that the product types were given the expected probability. We found on previous analysis above that Eastbound with Product type 1 is the most common, so these factors must be correctly associated in the simulation. "
      ],
      "metadata": {
        "id": "Z6H2fkYXwLTa"
      }
    },
    {
      "cell_type": "code",
      "source": [
        "import random\n",
        "def runSimulation1(num_trials, weighted_probability_num = random.choices([1,2,3,4,5] , [55.0335, 12.0248, 10.7238, 11.1911, 11.0269])):\n",
        "  finalqty = list();\n",
        "  for row in range(0, num_trials):\n",
        "    if (num_trials < 0):\n",
        "      quantity = 1\n",
        "    else:\n",
        "      time_browsed = np.random.normal(east['Time (minutes)'])   \n",
        "      typeofproducts = np.random.uniform(1,6)\n",
        "      quantity = np.random.normal(east['Quantity'])*weighted_probability_num\n",
        "      east['qty_array'] = np.random.normal(east['Quantity'])*weighted_probability_num\n",
        "      finalqty.append(quantity)\n",
        "  return east['qty_array']"
      ],
      "metadata": {
        "id": "algoerEjkVX8"
      },
      "execution_count": 376,
      "outputs": []
    },
    {
      "cell_type": "code",
      "source": [
        "## The resulting final quantity array will be added to the East dataframe with the name of qty_array. \n",
        "first_approach_results = runSimulation1(1000)"
      ],
      "metadata": {
        "colab": {
          "base_uri": "https://localhost:8080/"
        },
        "id": "Z80uWEs0lygg",
        "outputId": "08f61c33-cb9e-4e0e-ed67-9e98ed8034a4"
      },
      "execution_count": 379,
      "outputs": [
        {
          "output_type": "stream",
          "name": "stderr",
          "text": [
            "/usr/local/lib/python3.7/dist-packages/ipykernel_launcher.py:13: SettingWithCopyWarning: \n",
            "A value is trying to be set on a copy of a slice from a DataFrame.\n",
            "Try using .loc[row_indexer,col_indexer] = value instead\n",
            "\n",
            "See the caveats in the documentation: https://pandas.pydata.org/pandas-docs/stable/user_guide/indexing.html#returning-a-view-versus-a-copy\n",
            "  del sys.path[0]\n"
          ]
        }
      ]
    },
    {
      "cell_type": "code",
      "source": [
        "print('Max Quantity = ', max(east['qty_array']))\n",
        "print('Max Quantity = ', min(east['qty_array']))\n",
        "#print('Mode Profit = ', st.mode(results))\n",
        "print('Median Quantity = ', st.median(east['qty_array']))\n",
        "print('Avg Quantity = ', st.mean(east['qty_array']))\n",
        "east['qty_array'].hist()\n",
        "plt.title('Histogram of Quantity from the simulation')"
      ],
      "metadata": {
        "colab": {
          "base_uri": "https://localhost:8080/",
          "height": 370
        },
        "id": "x0MFYZyZnIBx",
        "outputId": "bab79607-1c26-4fd4-eb60-0a9b2748c698"
      },
      "execution_count": 380,
      "outputs": [
        {
          "output_type": "stream",
          "name": "stdout",
          "text": [
            "Max Quantity =  8.13124620811477\n",
            "Max Quantity =  -2.2331965515475627\n",
            "Median Quantity =  2.477131944250485\n",
            "Avg Quantity =  2.607739992728091\n"
          ]
        },
        {
          "output_type": "execute_result",
          "data": {
            "text/plain": [
              "Text(0.5, 1.0, 'Histogram of Quantity from the simulation')"
            ]
          },
          "metadata": {},
          "execution_count": 380
        },
        {
          "output_type": "display_data",
          "data": {
            "image/png": "[encoded data removed]",
            "text/plain": [
              "<Figure size 432x288 with 1 Axes>"
            ]
          },
          "metadata": {
            "needs_background": "light"
          }
        }
      ]
    },
    {
      "cell_type": "code",
      "source": [
        "print(east.describe())"
      ],
      "metadata": {
        "colab": {
          "base_uri": "https://localhost:8080/"
        },
        "id": "ww4d2HMgtBbW",
        "outputId": "24eb0de1-88d6-4b83-d74b-481857605a41"
      },
      "execution_count": 384,
      "outputs": [
        {
          "output_type": "stream",
          "name": "stdout",
          "text": [
            "             Month  Time (minutes)     Quantity    qty_array\n",
            "count  3049.000000     3049.000000  3049.000000  3049.000000\n",
            "mean      3.613316       49.768790     2.596589     2.607740\n",
            "std       1.697526        9.928303     1.367245     1.688753\n",
            "min       1.000000       16.624108     1.000000    -2.233197\n",
            "25%       2.000000       43.005604     2.000000     1.426169\n",
            "50%       4.000000       49.618364     2.000000     2.477132\n",
            "75%       5.000000       56.504273     3.000000     3.626547\n",
            "max       6.000000       80.190180     6.000000     8.131246\n"
          ]
        }
      ]
    },
    {
      "cell_type": "markdown",
      "source": [
        "## Method 2 \n",
        "Define a function with the given parameters. "
      ],
      "metadata": {
        "id": "Xy0j8LyxvOV1"
      }
    },
    {
      "cell_type": "code",
      "source": [
        "EastCoast_mean = 2.5965\n",
        "EastCoast_std = 1.367245\n",
        "import random\n",
        "def runSimulation2(num_trials, weighted_probability_num = random.choices([1,2,3,4,5] , [55.0335, 12.0248, 10.7238, 11.1911, 11.0269])):\n",
        "  finalqty = list();\n",
        "  for row in range(0, num_trials):\n",
        "    if (num_trials < 0):\n",
        "      quantity = 1\n",
        "    else:\n",
        "      time_browsed = np.random.normal(east['Time (minutes)'])   \n",
        "      typeofproducts = np.random.uniform(1,6)\n",
        "      quantity = rd.normalvariate(EastCoast_mean,EastCoast_std)*weighted_probability_num*1.20\n",
        "      finalqty.append(quantity)\n",
        "  return finalqty\n"
      ],
      "metadata": {
        "id": "1T0WKuG4L24f"
      },
      "execution_count": 370,
      "outputs": []
    },
    {
      "cell_type": "code",
      "source": [
        "### Run this first and put the output of this to the second input on the RunSimulation function below. \n",
        "weighted_product = random.choices([1,2,3,4,5] , [55.0335, 12.0248, 10.7238, 11.1911, 11.0269])\n",
        "weighted_product"
      ],
      "metadata": {
        "colab": {
          "base_uri": "https://localhost:8080/"
        },
        "id": "ziMQZVdkMvzH",
        "outputId": "6e49fbde-28dc-4c8b-f45b-94e09ab9c4cf"
      },
      "execution_count": 371,
      "outputs": [
        {
          "output_type": "execute_result",
          "data": {
            "text/plain": [
              "[1]"
            ]
          },
          "metadata": {},
          "execution_count": 371
        }
      ]
    },
    {
      "cell_type": "code",
      "source": [
        "results = runSimulation2(1000,4)"
      ],
      "metadata": {
        "id": "BleQBC5IgRYg"
      },
      "execution_count": 372,
      "outputs": []
    },
    {
      "cell_type": "code",
      "source": [
        "print('Max Quantity = ', max(results))\n",
        "print('Min Quantity = ', min(results))\n",
        "#print('Mode Profit = ', st.mode(results))\n",
        "print('Median Quantity = ', st.median(results))\n",
        "print('Avg Quantity = ', st.mean(results))\n",
        "plt.hist(results,  edgecolor='k')"
      ],
      "metadata": {
        "colab": {
          "base_uri": "https://localhost:8080/",
          "height": 425
        },
        "id": "AguqDy01fEu2",
        "outputId": "b6545928-1e4e-4a83-cdab-0369b4d2ad51"
      },
      "execution_count": 373,
      "outputs": [
        {
          "output_type": "stream",
          "name": "stdout",
          "text": [
            "Max Quantity =  36.73024124955615\n",
            "Min Quantity =  -7.745832495380633\n",
            "Median Quantity =  12.38388453568049\n",
            "Avg Quantity =  12.384377204367569\n"
          ]
        },
        {
          "output_type": "execute_result",
          "data": {
            "text/plain": [
              "(array([ 10.,  25., 111., 209., 269., 228., 110.,  30.,   7.,   1.]),\n",
              " array([-7.7458325 , -3.29822512,  1.14938225,  5.59698963, 10.044597  ,\n",
              "        14.49220438, 18.93981175, 23.38741913, 27.8350265 , 32.28263388,\n",
              "        36.73024125]),\n",
              " <a list of 10 Patch objects>)"
            ]
          },
          "metadata": {},
          "execution_count": 373
        },
        {
          "output_type": "display_data",
          "data": {
            "image/png": "[encoded data removed]",
            "text/plain": [
              "<Figure size 432x288 with 1 Axes>"
            ]
          },
          "metadata": {
            "needs_background": "light"
          }
        }
      ]
    }
  ]
}